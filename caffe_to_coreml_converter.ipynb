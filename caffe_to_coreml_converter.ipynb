{
  "nbformat": 4,
  "nbformat_minor": 0,
  "metadata": {
    "colab": {
      "name": "CaffeModel-to-CoreML-Converter.ipynb",
      "version": "0.3.2",
      "provenance": [],
      "collapsed_sections": []
    },
    "kernelspec": {
      "name": "python3",
      "display_name": "Python 3"
    }
  },
  "cells": [
    {
      "cell_type": "markdown",
      "metadata": {
        "id": "87bJO71Xscpc",
        "colab_type": "text"
      },
      "source": [
        "# CaffeModel to CoreMLModel Converter"
      ]
    },
    {
      "cell_type": "markdown",
      "metadata": {
        "id": "3pWzxlDwskRq",
        "colab_type": "text"
      },
      "source": [
        "The following code is based on the caffe to coreml converter tool from the coremltools package. For more information about it visit https://apple.github.io/coremltools/generated/coremltools.converters.caffe.convert.html#coremltools.converters.caffe.convert"
      ]
    },
    {
      "cell_type": "markdown",
      "metadata": {
        "id": "DSpGHf0ItKce",
        "colab_type": "text"
      },
      "source": [
        "## Initialization "
      ]
    },
    {
      "cell_type": "markdown",
      "metadata": {
        "id": "MQJEMOJ3tQEQ",
        "colab_type": "text"
      },
      "source": [
        "Import the coremltools package into the notebook"
      ]
    },
    {
      "cell_type": "code",
      "metadata": {
        "id": "0pMc1tMrT0Pb",
        "colab_type": "code",
        "outputId": "fb14d02c-d44c-4145-f2f9-386b157faf6c",
        "colab": {
          "base_uri": "https://localhost:8080/",
          "height": 228
        }
      },
      "source": [
        "!pip install coremltools\n",
        "import coremltools"
      ],
      "execution_count": 1,
      "outputs": [
        {
          "output_type": "stream",
          "text": [
            "Collecting coremltools\n",
            "\u001b[?25l  Downloading https://files.pythonhosted.org/packages/b9/9d/7ec5a2480c6afce4fcb99de1650b7abfd1457b2ef1de5ce39bf7bee8a8ae/coremltools-2.1.0-cp36-none-manylinux1_x86_64.whl (2.7MB)\n",
            "\u001b[K     |████████████████████████████████| 2.7MB 2.8MB/s \n",
            "\u001b[?25hRequirement already satisfied: protobuf>=3.1.0 in /usr/local/lib/python3.6/dist-packages (from coremltools) (3.7.1)\n",
            "Requirement already satisfied: six>=1.10.0 in /usr/local/lib/python3.6/dist-packages (from coremltools) (1.12.0)\n",
            "Requirement already satisfied: numpy>=1.10.0 in /usr/local/lib/python3.6/dist-packages (from coremltools) (1.16.4)\n",
            "Requirement already satisfied: setuptools in /usr/local/lib/python3.6/dist-packages (from protobuf>=3.1.0->coremltools) (41.0.1)\n",
            "Installing collected packages: coremltools\n",
            "Successfully installed coremltools-2.1.0\n"
          ],
          "name": "stdout"
        },
        {
          "output_type": "stream",
          "text": [
            "WARNING: Logging before flag parsing goes to stderr.\n",
            "W0809 14:03:28.004388 140328251250560 __init__.py:118] TensorFlow version 1.14.0 detected. Last version known to be fully compatible is 1.12.0 .\n"
          ],
          "name": "stderr"
        }
      ]
    },
    {
      "cell_type": "markdown",
      "metadata": {
        "id": "EYmyR-U8tH0a",
        "colab_type": "text"
      },
      "source": [
        "Load the git repository with the caffe model "
      ]
    },
    {
      "cell_type": "code",
      "metadata": {
        "id": "pAyR8T8BV0Pz",
        "colab_type": "code",
        "outputId": "34032e2f-3da6-4322-d255-cc7504840039",
        "colab": {
          "base_uri": "https://localhost:8080/",
          "height": 121
        }
      },
      "source": [
        "!git clone https://github.com/franlopezguzman/NsfwSqueezenet.git"
      ],
      "execution_count": 2,
      "outputs": [
        {
          "output_type": "stream",
          "text": [
            "Cloning into 'NsfwSqueezenet'...\n",
            "remote: Enumerating objects: 10, done.\u001b[K\n",
            "remote: Counting objects:  10% (1/10)\u001b[K\rremote: Counting objects:  20% (2/10)\u001b[K\rremote: Counting objects:  30% (3/10)\u001b[K\rremote: Counting objects:  40% (4/10)\u001b[K\rremote: Counting objects:  50% (5/10)\u001b[K\rremote: Counting objects:  60% (6/10)\u001b[K\rremote: Counting objects:  70% (7/10)\u001b[K\rremote: Counting objects:  80% (8/10)\u001b[K\rremote: Counting objects:  90% (9/10)\u001b[K\rremote: Counting objects: 100% (10/10)\u001b[K\rremote: Counting objects: 100% (10/10), done.\u001b[K\n",
            "remote: Compressing objects: 100% (8/8), done.\u001b[K\n",
            "remote: Total 76 (delta 1), reused 0 (delta 0), pack-reused 66\u001b[K\n",
            "Unpacking objects: 100% (76/76), done.\n"
          ],
          "name": "stdout"
        }
      ]
    },
    {
      "cell_type": "markdown",
      "metadata": {
        "id": "igcc_-ZPtaPA",
        "colab_type": "text"
      },
      "source": [
        "Assign file names to relevant variables. NB: the converter function from coremltools can work without prototxt an binaryproto files for certain caffe models. "
      ]
    },
    {
      "cell_type": "code",
      "metadata": {
        "id": "3NEz9P0kWa8S",
        "colab_type": "code",
        "outputId": "faf67a2e-51c4-4d46-d9e9-57947c03e111",
        "colab": {
          "base_uri": "https://localhost:8080/",
          "height": 52
        }
      },
      "source": [
        "!ls NsfwSqueezenet/model"
      ],
      "execution_count": 3,
      "outputs": [
        {
          "output_type": "stream",
          "text": [
            "deploy.prototxt  nsfw_squeezenet.caffemodel\t   nsfw_squeezenet.onnx\n",
            "mean_value.txt\t nsfw_squeezenet_mean.binaryproto\n"
          ],
          "name": "stdout"
        }
      ]
    },
    {
      "cell_type": "code",
      "metadata": {
        "id": "gLPjXR4BWfr4",
        "colab_type": "code",
        "colab": {}
      },
      "source": [
        "path_to_caffemodel  = \"NsfwSqueezenet/model/nsfw_squeezenet.caffemodel\"\n",
        "path_to_prototxt    = \"NsfwSqueezenet/model/deploy.prototxt\"\n",
        "path_to_meanbinary  = \"NsfwSqueezenet/model/nsfw_squeezenet_mean.binaryproto\""
      ],
      "execution_count": 0,
      "outputs": []
    },
    {
      "cell_type": "markdown",
      "metadata": {
        "id": "5Ano924vuVHs",
        "colab_type": "text"
      },
      "source": [
        "## Conversion"
      ]
    },
    {
      "cell_type": "markdown",
      "metadata": {
        "id": "_Ta5OJzct_of",
        "colab_type": "text"
      },
      "source": [
        "Run the converter. Make sure to assign suitable image input names and scales, and predicted feature names."
      ]
    },
    {
      "cell_type": "code",
      "metadata": {
        "id": "8HiKlIvPX5Tx",
        "colab_type": "code",
        "colab": {}
      },
      "source": [
        "coreml_model = coremltools.converters.caffe.convert( (path_to_caffemodel, path_to_prototxt, path_to_meanbinary),\n",
        "                                                     #predicted_feature_name='class_labels.txt',\n",
        "                                                     image_input_names='data',\n",
        "                                                     #image_scale=1/255.,\n",
        "                                                   )"
      ],
      "execution_count": 0,
      "outputs": []
    },
    {
      "cell_type": "markdown",
      "metadata": {
        "id": "sd0hHI15uJfH",
        "colab_type": "text"
      },
      "source": [
        "Check coreml specs"
      ]
    },
    {
      "cell_type": "code",
      "metadata": {
        "id": "0AY-6z3HbN-A",
        "colab_type": "code",
        "outputId": "0f2160d5-1b00-47d5-8973-151f36c2afc9",
        "colab": {
          "base_uri": "https://localhost:8080/",
          "height": 347
        }
      },
      "source": [
        "coreml_model.get_spec"
      ],
      "execution_count": 6,
      "outputs": [
        {
          "output_type": "execute_result",
          "data": {
            "text/plain": [
              "<bound method MLModel.get_spec of input {\n",
              "  name: \"data\"\n",
              "  type {\n",
              "    imageType {\n",
              "      width: 227\n",
              "      height: 227\n",
              "      colorSpace: RGB\n",
              "    }\n",
              "  }\n",
              "}\n",
              "output {\n",
              "  name: \"prob\"\n",
              "  type {\n",
              "    multiArrayType {\n",
              "      dataType: DOUBLE\n",
              "    }\n",
              "  }\n",
              "}\n",
              ">"
            ]
          },
          "metadata": {
            "tags": []
          },
          "execution_count": 6
        }
      ]
    },
    {
      "cell_type": "markdown",
      "metadata": {
        "id": "0uWK9B79uYUT",
        "colab_type": "text"
      },
      "source": [
        "## Output"
      ]
    },
    {
      "cell_type": "markdown",
      "metadata": {
        "id": "2gAgfJZfuQ4M",
        "colab_type": "text"
      },
      "source": [
        "Save the model to an output file"
      ]
    },
    {
      "cell_type": "code",
      "metadata": {
        "id": "pDpoXlAvYXEy",
        "colab_type": "code",
        "colab": {}
      },
      "source": [
        "output_mlmodel_name = \"nsfw_squeezenet.mlmodel\"\n",
        "coreml_model.save(output_mlmodel_name)"
      ],
      "execution_count": 0,
      "outputs": []
    }
  ]
}